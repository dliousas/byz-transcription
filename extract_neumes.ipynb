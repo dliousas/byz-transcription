{
 "cells": [
  {
   "attachments": {},
   "cell_type": "markdown",
   "metadata": {},
   "source": [
    "## Imports"
   ]
  },
  {
   "cell_type": "code",
   "execution_count": 6,
   "metadata": {},
   "outputs": [],
   "source": [
    "import pdf2image\n",
    "import os"
   ]
  },
  {
   "attachments": {},
   "cell_type": "markdown",
   "metadata": {},
   "source": [
    "## Extracting Images from PDFs"
   ]
  },
  {
   "cell_type": "code",
   "execution_count": 14,
   "metadata": {},
   "outputs": [
    {
     "name": "stdout",
     "output_type": "stream",
     "text": [
      "pascha_canon_english\n"
     ]
    }
   ],
   "source": [
    "pdf_paths = [\"resources/pdfs/pascha_canon_english.pdf\"]\n",
    "for pdf_path in pdf_paths:\n",
    "    pdf_images = pdf2image.convert_from_path(pdf_path)\n",
    "    pdf_name = os.path.splitext(os.path.basename(pdf_path))[0]\n",
    "    os.mkdir(f\"resources/images/{pdf_name}\")\n",
    "    for i, pdf_image in enumerate(pdf_images):\n",
    "        pdf_image.save(f\"resources/images/{pdf_name}/page{i+1}.png\", \"PNG\")"
   ]
  },
  {
   "cell_type": "code",
   "execution_count": null,
   "metadata": {},
   "outputs": [],
   "source": []
  }
 ],
 "metadata": {
  "kernelspec": {
   "display_name": "byz-omr",
   "language": "python",
   "name": "python3"
  },
  "language_info": {
   "codemirror_mode": {
    "name": "ipython",
    "version": 3
   },
   "file_extension": ".py",
   "mimetype": "text/x-python",
   "name": "python",
   "nbconvert_exporter": "python",
   "pygments_lexer": "ipython3",
   "version": "3.11.3"
  },
  "orig_nbformat": 4
 },
 "nbformat": 4,
 "nbformat_minor": 2
}
